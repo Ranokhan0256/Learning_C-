{
  "nbformat": 4,
  "nbformat_minor": 0,
  "metadata": {
    "colab": {
      "provenance": [],
      "authorship_tag": "ABX9TyPnENr5V2RCADyOWw7I+l0B",
      "include_colab_link": true
    },
    "kernelspec": {
      "name": "python3",
      "display_name": "Python 3"
    },
    "language_info": {
      "name": "python"
    }
  },
  "cells": [
    {
      "cell_type": "markdown",
      "metadata": {
        "id": "view-in-github",
        "colab_type": "text"
      },
      "source": [
        "<a href=\"https://colab.research.google.com/github/Ranokhan0256/Learning_C-/blob/main/lab_of_conditional_statments.ipynb\" target=\"_parent\"><img src=\"https://colab.research.google.com/assets/colab-badge.svg\" alt=\"Open In Colab\"/></a>"
      ]
    },
    {
      "cell_type": "code",
      "execution_count": null,
      "metadata": {
        "id": "1H-2IVikJErU"
      },
      "outputs": [],
      "source": [
        "#LAB TASK o1\n",
        "num_to_check=int(input('enter the number to check:'))\n",
        "if(num_to_check % 2==0):\n",
        "    print('entered number is even')\n",
        "else:\n",
        "    print('entered number is odd')\n"
      ]
    },
    {
      "cell_type": "code",
      "source": [
        "#LAB TASK NO 02\n",
        "#write a python program to check that entered number is +ve,-ve and zero?\n",
        "val=int(input('enter the number:'))\n",
        "if(val>0):\n",
        "    print('enter number is positive')\n",
        "elif(val<0):\n",
        "    print('entered number is negative')\n",
        "else:\n",
        "    print('enter number is zero')"
      ],
      "metadata": {
        "colab": {
          "base_uri": "https://localhost:8080/"
        },
        "id": "SytnGImEJZI0",
        "outputId": "1615e840-1083-4847-a1d9-022af734c876"
      },
      "execution_count": null,
      "outputs": [
        {
          "output_type": "stream",
          "name": "stdout",
          "text": [
            "enter the number:-2\n",
            "entered number is negative\n"
          ]
        }
      ]
    },
    {
      "cell_type": "code",
      "source": [
        "#LAB TASK 03\n",
        "#write a python program to check that entered year is a leap year or not\n",
        "year=int(input('enter the year to check that its leap or not:'))\n",
        "if(year % 4 ==0 or year % 4==400):\n",
        "    print('entered year is a leap year!')\n",
        "else:\n",
        "    print('entered year is not a leap year!')\n"
      ],
      "metadata": {
        "colab": {
          "base_uri": "https://localhost:8080/"
        },
        "id": "WpaH97FVLpFx",
        "outputId": "45528af4-1f9c-4e96-c61f-7525a170b3e8"
      },
      "execution_count": null,
      "outputs": [
        {
          "output_type": "stream",
          "name": "stdout",
          "text": [
            "enter the year to check that its leap or not:1200\n",
            "entered year is a leap year!\n"
          ]
        }
      ]
    },
    {
      "cell_type": "code",
      "source": [
        "def is_leap_year(year):\n",
        "    if(year%4==0 or year&400==0):\n",
        "        return True\n",
        "    else:\n",
        "        return False\n",
        "\n",
        "y=int(input('enter the year of ur choice:'))\n",
        "if(is_leap_year(y)):\n",
        "    print('entered year is a leap year:')\n",
        "else:\n",
        "    print('entered year is not a leap year:')\n",
        "\n",
        "\n"
      ],
      "metadata": {
        "colab": {
          "base_uri": "https://localhost:8080/"
        },
        "id": "fH3fmMDKSYut",
        "outputId": "9ebb5137-b4f3-4d48-dbb8-97362a2fa563"
      },
      "execution_count": null,
      "outputs": [
        {
          "output_type": "stream",
          "name": "stdout",
          "text": [
            "enter the year of ur choice:6543\n",
            "entered year is not a leap year:\n"
          ]
        }
      ]
    },
    {
      "cell_type": "code",
      "source": [
        "#LAB TASK NO 04\n",
        "#WRITE A PYTHON PROGEAM TO CHECK THAT ENTERED LETTER IS VOWEL OR CONSONANT\n",
        "letter=(input('enter any letter of ur choice:'))\n",
        "if(letter=='a' or letter=='e'or letter=='i' or letter=='o'or letter=='u'):\n",
        "    print('entered letter is VOWEL!!!!')\n",
        "else:\n",
        "    print('entered letter is CONSONANT')"
      ],
      "metadata": {
        "colab": {
          "base_uri": "https://localhost:8080/"
        },
        "id": "qVxFrU63T_6R",
        "outputId": "f3592ca7-7fde-40a0-b2cd-3296530f3b0b"
      },
      "execution_count": null,
      "outputs": [
        {
          "output_type": "stream",
          "name": "stdout",
          "text": [
            "enter any letter of ur choice:a\n",
            "entered letter is VOWEL!!!!\n"
          ]
        }
      ]
    },
    {
      "cell_type": "code",
      "source": [
        "#LAB TASK NO 05\n",
        "\n",
        "num1=int(input('enter the first number:'))\n",
        "num2=int(input('enter the 2nd number:'))\n",
        "num3=int(input('enter the 3rd number:'))\n",
        "if(num1>num2 and num1>num3):\n",
        "    print('1st entered number is greater:')\n",
        "elif(num2>num1 and num2>num3):\n",
        "    print('2nd entered number is greater:')\n",
        "else:\n",
        "    print('3rd entered number is greater:')"
      ],
      "metadata": {
        "id": "GEhr4B6kVwM-"
      },
      "execution_count": null,
      "outputs": []
    },
    {
      "cell_type": "code",
      "source": [
        "#LAB TASK NO 06\n",
        "#create a simple calculator\n",
        "num1=int(input('enter the 1st number'))\n",
        "num2=int(input('enter the 2nd number:'))\n",
        "operation=input('enter any operation(+,-,*,/)')\n",
        "if(operation=='+'):\n",
        "    print('the sum of two numbers is:',num1+num2)\n",
        "elif(operation=='-'):\n",
        "    print('the difference of two numbers is:',num1-num2)\n",
        "elif(operation=='*'):\n",
        "    print('the difference of two numbers is:',num1*num2)\n",
        "\n",
        "elif(operation=='/'):\n",
        "    print('the division of two numbers is:',num1/num2)\n",
        "\n",
        "\n"
      ],
      "metadata": {
        "colab": {
          "base_uri": "https://localhost:8080/"
        },
        "id": "rFHbKr1rWCDS",
        "outputId": "936d0aef-8e03-4024-fb7f-fcce4d024745"
      },
      "execution_count": null,
      "outputs": [
        {
          "output_type": "stream",
          "name": "stdout",
          "text": [
            "enter the 1st number67\n",
            "enter the 2nd number:34\n",
            "enter any operation(+,-,*,/)+\n",
            "the sum of two numbers is: 101\n"
          ]
        }
      ]
    },
    {
      "cell_type": "code",
      "source": [
        "#LAB TASK NO 07\n",
        "marks=int(input('enter your marks of sessional test:'))\n",
        "if(marks>=90 ):\n",
        "    print('GARADE A+')\n",
        "elif(marks>=80 and marks<90): #(90>marks>=80)\n",
        "    print('GRADE A')\n",
        "elif(marks>=70 and marks<80): #(80>marks>=70)\n",
        "    print('GRADE B+')\n",
        "elif(marks>=60 and marks<70): #(70>marks>=60)\n",
        "    print('GRADE B')\n",
        "elif(marks>=50 and marks<60): #marks(60>marks>=50)\n",
        "    print('C+')\n",
        "elif(marks>=40 and marks<50):\n",
        "    print('C')\n",
        "else:\n",
        "    print('FAIL:')\n",
        "print(\"GRADE OF THE STUDENT!!!!!\")"
      ],
      "metadata": {
        "colab": {
          "base_uri": "https://localhost:8080/"
        },
        "id": "5fTycuNOXsrV",
        "outputId": "26deb790-ba74-4474-c806-262446eb2cba"
      },
      "execution_count": null,
      "outputs": [
        {
          "output_type": "stream",
          "name": "stdout",
          "text": [
            "enter your marks of sessional test:78\n",
            "GRADE B+\n",
            "GRADE OF THE STUDENT!!!!!\n"
          ]
        }
      ]
    },
    {
      "cell_type": "code",
      "source": [
        "#LAB TASK NO 08\n",
        "#calculate the average of the student in 3 subject\n",
        "subj1=int(input('enter the marks in DSAA:'))\n",
        "subj2=int(input('enter the marks in DLD:'))\n",
        "subj3=int(input('enter the marks in EEPM:'))\n",
        "average_marks=((subj1+subj2+subj3)/3)\n",
        "print(f'average marks of student{average}.')\n",
        "\n",
        "if(average_marks>=90 ):\n",
        "    print('GARADE A+')\n",
        "elif(average_marks>=80 and average_marks<90): #(90>marks>=80)\n",
        "    print('GRADE A')\n",
        "elif(average_marks>=70 and average_marks<80): #(80>marks>=70)\n",
        "    print('GRADE B+')\n",
        "elif(average_marks>=60 and average_marks<70): #(70>marks>=60)\n",
        "    print('GRADE B')\n",
        "elif(average_marks>=50 and average_marks<60): #marks(60>marks>=50)\n",
        "    print('C+')\n",
        "elif(average_marks>=40 and average_marks<50):\n",
        "    print('C')\n",
        "else:\n",
        "    print('FAIL:')\n",
        "print(\"GRADE OF THE STUDENT!!!!!\")"
      ],
      "metadata": {
        "colab": {
          "base_uri": "https://localhost:8080/"
        },
        "id": "-nsvFy0cYM1-",
        "outputId": "8828642a-0bb7-4ec8-c7c4-d62ee7b16986"
      },
      "execution_count": null,
      "outputs": [
        {
          "output_type": "stream",
          "name": "stdout",
          "text": [
            "enter the marks in DSAA:78\n",
            "enter the marks in DLD:43\n",
            "enter the marks in EEPM:90\n",
            "average marks of student84.0.\n",
            "GRADE B+\n",
            "GRADE OF THE STUDENT!!!!!\n"
          ]
        }
      ]
    },
    {
      "cell_type": "code",
      "source": [
        "#LAB TASK NO 09\n",
        "#check the type of the triangle based on its sides either it is 'equilatera','isosceles'or'equilateral'.\n",
        "side1=int(input('enter the 1st side of triangle:'))\n",
        "side2=int(input('enter the 2nd side of triangle:'))\n",
        "side3=int(input('enter the 3rd side of triangle:'))\n",
        "if(side1==side2 and side1==side3):\n",
        "    print(\"this is EQUILATERAL triangle!\")\n",
        "elif(side1==side2 or side1==side3 or side2==side3):\n",
        "    print('thix is ISOSCELES triangle:')\n",
        "elif(side1!=side2 or side1!=side2 or side2!=side3):\n",
        "    print('this is SCALENE TRIANGLE!!')\n",
        "else:\n",
        "    print('this is a simple triangle')\n",
        "\n"
      ],
      "metadata": {
        "colab": {
          "base_uri": "https://localhost:8080/"
        },
        "id": "GsYvI61JZ80n",
        "outputId": "95e8c53f-567c-4371-f34f-13055246f3fa"
      },
      "execution_count": null,
      "outputs": [
        {
          "output_type": "stream",
          "name": "stdout",
          "text": [
            "enter the 1st side of triangle:67\n",
            "enter the 2nd side of triangle:67\n",
            "enter the 3rd side of triangle:67\n",
            "this is EQUILATERAL triangle!\n"
          ]
        }
      ]
    },
    {
      "cell_type": "code",
      "source": [
        "#LAB TASK NO 10\n",
        "'''write a program that calculates the ticket price of a visitor based on the age of a visitor.the conditions are 0-3 years\n",
        " (free),4-12 years (10$),13-59 years (20$),60-100 years (15$)'''\n",
        "\n",
        "age_of_person=int(input('enter the age of a person that wants to visit theme park:'))\n",
        "if(age_of_person<=3):\n",
        "    ticket_of_price='free'\n",
        "    print(f'ticket price of a visitor is{ticket_of_price}.')\n",
        "elif(age_of_person>=4 and age_of_person<=12):\n",
        "    ticket_of_price1='10$'\n",
        "    print(f'ticket price of a visitor is{ticket_of_price1}.')\n",
        "elif(age_of_person>=13 and age_of_person<=59):\n",
        "    ticket_of_price2='20$'\n",
        "    print(f'ticket price of a visitor is{ticket_of_price2}.')\n",
        "elif(age_of_person>=60):\n",
        "    ticket_of_price3='15$'\n",
        "    print(f'ticket price of a visitor is{ticket_of_price3}.')\n",
        "\n",
        "\n",
        "\n",
        "\n",
        "\n",
        "\n",
        "\n",
        "\n",
        "\n",
        "\n",
        "\n"
      ],
      "metadata": {
        "colab": {
          "base_uri": "https://localhost:8080/"
        },
        "id": "rhoM0084c3Pi",
        "outputId": "c4891e29-779a-4a33-fe48-43320d34e584"
      },
      "execution_count": null,
      "outputs": [
        {
          "output_type": "stream",
          "name": "stdout",
          "text": [
            "enter the age of a person that wants to visit theme park:34\n",
            "ticket price of a visitor is20$.\n"
          ]
        }
      ]
    },
    {
      "cell_type": "code",
      "source": [
        "#LAB TASK NO 11\n",
        "#write a python program that calculate discount amount and the discounted price based on the purchase amount\n",
        "def calculate_discount(purchase_amount):\n",
        "    if(purchase_amount>=1000):\n",
        "        discount=0.1    #10% discount\n",
        "    elif(purchase_amount>=500):\n",
        "        discount=0.05    #5% discount\n",
        "    else:\n",
        "        discount=0\n",
        "    discount_amount= purchase_amount*discount\n",
        "    discounted_price= purchase_amount-discount_amount\n",
        "    return discount_amount,discounted_price\n",
        "\n",
        "purchase_amount=int(input('enter the actual price of the '))\n",
        "discount_amount,discounted_price=calculate_discount(purchase_amount)\n",
        "print(f\"congrats!you got the discount of{discount_amount}.\")\n",
        "print(f'now after discount,the price of ur item is{discounted_price}.')"
      ],
      "metadata": {
        "colab": {
          "base_uri": "https://localhost:8080/"
        },
        "id": "njgcSkaOg8Ss",
        "outputId": "e9130dec-d0a7-4943-dae0-cfa819d9480b"
      },
      "execution_count": null,
      "outputs": [
        {
          "output_type": "stream",
          "name": "stdout",
          "text": [
            "enter the actual price of the 2000\n",
            "congrats!you got the discount of200.0.\n",
            "now after discount,the price of ur item is1800.0.\n"
          ]
        }
      ]
    },
    {
      "cell_type": "code",
      "source": [
        "#LAB TASK NO 12\n",
        "#write a python program that assigns grades to quizzes  and exams based on their scores\n",
        "\n",
        "def assign_grades(score):\n",
        "    if score>=90:\n",
        "        return 'A'\n",
        "    elif score>=80 and score <90:\n",
        "        return 'B'\n",
        "    elif score>=70 and score<80:\n",
        "        return 'C'\n",
        "    elif score<70:\n",
        "        return 'FAIL'\n",
        "\n",
        "quiz_score=int(input('enter the score of Quize:'))\n",
        "exams_marks=int(input('enter the marks of exams:'))\n",
        "\n",
        "quiz_grade=assign_grades(quiz_score)\n",
        "exams_grades=assign_grades(exams_marks)\n",
        "\n",
        "print(f'grade in quiz is{quiz_grade}.')\n",
        "print(f'grade in exams {exams_grades}.')"
      ],
      "metadata": {
        "colab": {
          "base_uri": "https://localhost:8080/"
        },
        "id": "xCgS2HjtqW5K",
        "outputId": "3a5103d7-ad4e-4e84-fd16-5daa7bf9ea55"
      },
      "execution_count": null,
      "outputs": [
        {
          "output_type": "stream",
          "name": "stdout",
          "text": [
            "enter the score of Quize:67\n",
            "enter the marks of exams:98\n",
            "grade in quiz isFAIL.\n",
            "grade in exams A.\n"
          ]
        }
      ]
    },
    {
      "cell_type": "code",
      "source": [
        "54\n",
        "#LAB TASK NO 13\n",
        "#WRite a python program that converts time from 24-hours format to 12-hour format\n",
        "\n",
        "def convert_to_12_hour_format(hour, minute):\n",
        "    if hour == 0:\n",
        "        return 12, minute, 'AM'\n",
        "    elif 1 <= hour <= 11:\n",
        "        return hour, minute, 'AM'\n",
        "    elif hour == 12:\n",
        "        return 12, minute, 'PM'\n",
        "    else:\n",
        "        return hour - 12, minute, 'PM'\n",
        "\n",
        "# Get input from the user for time in 24-hour format\n",
        "hour = int(input(\"Enter hour (0-23): \"))\n",
        "minute = int(input(\"Enter minute (0-59): \"))\n",
        "\n",
        "# Convert to 12-hour format\n",
        "hour_12, minute_12, period = convert_to_12_hour_format(hour, minute)\n",
        "\n",
        "# Print the result\n",
        "print(\"Time in 12-hour format:\", f\"{hour_12:02d}:{minute_12:02d} {period}\")\n"
      ],
      "metadata": {
        "colab": {
          "base_uri": "https://localhost:8080/"
        },
        "id": "iZKHST66qX72",
        "outputId": "3e8a8ca5-2642-4a22-f257-8eca0fca8cb0"
      },
      "execution_count": null,
      "outputs": [
        {
          "output_type": "stream",
          "name": "stdout",
          "text": [
            "Enter hour (0-23): 22\n",
            "Enter minute (0-59): 43\n",
            "Time in 12-hour format: 10:43 PM\n"
          ]
        }
      ]
    },
    {
      "cell_type": "code",
      "source": [
        "def convert_24_hours_to_12_hours(hours,minutes):\n",
        "    if hours==0:\n",
        "        return hours,minutes,'AM'\n",
        "    elif 1<=hours<=11:\n",
        "        return hours,minutes,'AM'\n",
        "    elif hours==12:\n",
        "        return hours,minutes,'PM'\n",
        "    else:\n",
        "        return hours-12,minutes,'PM'\n",
        "\n",
        "hour_=int(input('enter the hour(0-24):'))\n",
        "minutes=int(input('enter the minutes(0-59):'))\n",
        "\n",
        "hour_12,minutes_12,period=convert_24_hours_to_12_hours(hour,minute)\n",
        "#02d is a format specifier used in Python's f-strings to format the output.\n",
        "#02d: This format specifier indicates that the integer value should be formatted with at least two digits. If the intege\n",
        "#r value has fewer than two digits, leading zeros are added to pad the number to a width of two digits.\n",
        "print(f'time in 12-hours format:{hour_12:02d}:{minute_12:02d}{period}.')\n"
      ],
      "metadata": {
        "colab": {
          "base_uri": "https://localhost:8080/"
        },
        "id": "GKG9i4yFv0-O",
        "outputId": "c213052d-4b47-453f-91bb-6ad3f74f724e"
      },
      "execution_count": null,
      "outputs": [
        {
          "output_type": "stream",
          "name": "stdout",
          "text": [
            "enter the hour(0-24):22\n",
            "enter the minutes(0-59):33\n",
            "time in 12-hours format:10:43PM.\n"
          ]
        }
      ]
    },
    {
      "cell_type": "code",
      "source": [
        "#LAB TASK NO 14\n",
        "#write a phython program that simulates a simple ATM withdarawal process,checking if the withdrawal amount is within account\n",
        " #balance\n",
        "def check_account_balance(withdraw,amount_in_account):\n",
        "    if withdraw>amount_in_account:\n",
        "        print('insufficient:entered amount is not in not available in ur account!')\n",
        "    else:\n",
        "        amount_in_account-=withdraw\n",
        "        print(f'withdraw of ${withdraw} is successful! remaining balance in your account is ${amount_in_account}.')\n",
        "    return amount_in_account\n",
        "\n",
        "current_balacne=float(input('enter the amount available in ur account:'))\n",
        "\n",
        "withdrawal_amount=float(input('enter the amount u want to withdraw:'))\n",
        "current_balance= check_account_balance(withdrawal_amount,current_balacne)\n",
        "\n",
        "\n"
      ],
      "metadata": {
        "colab": {
          "base_uri": "https://localhost:8080/"
        },
        "id": "JupnAmZBqYWH",
        "outputId": "b70fd5c9-2bb1-43cb-af59-59680d9d2d3e"
      },
      "execution_count": null,
      "outputs": [
        {
          "output_type": "stream",
          "name": "stdout",
          "text": [
            "enter the amount available in ur account:543217\n",
            "enter the amount u want to withdraw:7654\n",
            "withdraw of $7654.0 is successful! remaining balance in your account is $535563.0.\n"
          ]
        }
      ]
    },
    {
      "cell_type": "code",
      "source": [
        "def withdraw(account_balance, amount):\n",
        "    if amount > account_balance:\n",
        "        print(\"Insufficient funds. Withdrawal unsuccessful.\")\n",
        "    else:\n",
        "        account_balance -= amount\n",
        "        print(f\"Withdrawal of ${amount} successful. Remaining balance: ${account_balance}\")\n",
        "    return account_balance\n",
        "\n",
        "# Example usage:\n",
        "account_balance = float(input(\"Enter your account balance: \"))\n",
        "withdrawal_amount = float(input(\"Enter withdrawal amount: \"))\n",
        "\n",
        "account_balance = withdraw(account_balance, withdrawal_amount)\n"
      ],
      "metadata": {
        "colab": {
          "base_uri": "https://localhost:8080/"
        },
        "id": "kH1cPthS_CDG",
        "outputId": "c54ee8f0-dd5f-45cd-bfba-ddd2ad289182"
      },
      "execution_count": null,
      "outputs": [
        {
          "output_type": "stream",
          "name": "stdout",
          "text": [
            "Enter your account balance: 65432\n",
            "Enter withdrawal amount: 543\n",
            "Withdrawal of $543.0 successful. Remaining balance: $64889.0\n"
          ]
        }
      ]
    },
    {
      "cell_type": "code",
      "source": [
        "#LAB TASK NO 15\n",
        "#write a program that classifies temperature into hot,warm and cold based on predefined threshhold\n",
        "\n",
        "temp=int(input('enter the temperature:'))\n",
        "if temp>=25 and temp<35:\n",
        "    print('its a warm weather!')\n",
        "elif temp>35 :\n",
        "    print('its a hot weather!')\n",
        "else:\n",
        "    print('its a cold weather!')"
      ],
      "metadata": {
        "colab": {
          "base_uri": "https://localhost:8080/"
        },
        "id": "R1QR0o61paTB",
        "outputId": "b7860dbc-be04-4139-9f17-a0ec47f54f92"
      },
      "execution_count": null,
      "outputs": [
        {
          "output_type": "stream",
          "name": "stdout",
          "text": [
            "enter the temperature:12\n",
            "its a cold weather!\n"
          ]
        }
      ]
    }
  ]
}